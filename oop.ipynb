{
 "cells": [
  {
   "cell_type": "markdown",
   "metadata": {},
   "source": [
    "# Python OOP"
   ]
  },
  {
   "cell_type": "code",
   "execution_count": 3,
   "metadata": {},
   "outputs": [
    {
     "ename": "TypeError",
     "evalue": "unsupported operand type(s) for +: 'int' and 'str'",
     "output_type": "error",
     "traceback": [
      "\u001b[1;31m---------------------------------------------------------------------------\u001b[0m",
      "\u001b[1;31mTypeError\u001b[0m                                 Traceback (most recent call last)",
      "Cell \u001b[1;32mIn[3], line 3\u001b[0m\n\u001b[0;32m      1\u001b[0m x\u001b[38;5;241m=\u001b[39m\u001b[38;5;241m1\u001b[39m\n\u001b[0;32m      2\u001b[0m y\u001b[38;5;241m=\u001b[39m\u001b[38;5;124m\"\u001b[39m\u001b[38;5;124mHello\u001b[39m\u001b[38;5;124m\"\u001b[39m\n\u001b[1;32m----> 3\u001b[0m \u001b[38;5;28mprint\u001b[39m(\u001b[43mx\u001b[49m\u001b[38;5;241;43m+\u001b[39;49m\u001b[43my\u001b[49m)\n",
      "\u001b[1;31mTypeError\u001b[0m: unsupported operand type(s) for +: 'int' and 'str'"
     ]
    }
   ],
   "source": [
    "x=1\n",
    "y=\"Hello\"\n",
    "print(x+y)"
   ]
  },
  {
   "cell_type": "markdown",
   "metadata": {},
   "source": [
    "## Lets make a class"
   ]
  },
  {
   "cell_type": "code",
   "execution_count": 9,
   "metadata": {},
   "outputs": [
    {
     "name": "stdout",
     "output_type": "stream",
     "text": [
      "Tim\n",
      "Bruce\n"
     ]
    },
    {
     "data": {
      "text/plain": [
       "__main__.Dog"
      ]
     },
     "execution_count": 9,
     "metadata": {},
     "output_type": "execute_result"
    }
   ],
   "source": [
    "class Dog:\n",
    "\n",
    "    def __init__(self,name):\n",
    "        self.name=name\n",
    "\n",
    "    def addOne(self ,x):\n",
    "        return x+1\n",
    "\n",
    "    def bark(self):\n",
    "        print(\"bark \")\n",
    "\n",
    "d=Dog(\"Tim\")\n",
    "print(d.name)\n",
    "d2=Dog(\"Bruce\")\n",
    "print(d2.name)\n",
    "type(d)"
   ]
  },
  {
   "cell_type": "code",
   "execution_count": 17,
   "metadata": {},
   "outputs": [
    {
     "name": "stdout",
     "output_type": "stream",
     "text": [
      "12\n",
      "13\n"
     ]
    }
   ],
   "source": [
    "#lets see how getters / setters work\n",
    "class Dog:\n",
    "\n",
    "    def __init__(self,name,age):\n",
    "        self.name=name\n",
    "        self.age=age\n",
    "\n",
    "    def getName(self):\n",
    "        return self.name\n",
    "    \n",
    "    def getAge(self):\n",
    "        return self.age\n",
    "    \n",
    "    def setAge(self,age):\n",
    "        self.age=age\n",
    "\n",
    "\n",
    "d=Dog(\"Tim\",12)\n",
    "print(d.getAge())\n",
    "d.setAge(13)\n",
    "print(d.getAge())\n"
   ]
  },
  {
   "cell_type": "markdown",
   "metadata": {},
   "source": [
    "### Lets make multiple classes"
   ]
  },
  {
   "cell_type": "code",
   "execution_count": 15,
   "metadata": {},
   "outputs": [
    {
     "name": "stdout",
     "output_type": "stream",
     "text": [
      "False\n",
      "90.0\n"
     ]
    }
   ],
   "source": [
    "#lets make a class of students and courses \n",
    "class student:\n",
    "    def __init__(self,name,age,grade):\n",
    "        self.name=name\n",
    "        self.age=age\n",
    "        self.grade=grade\n",
    "\n",
    "    def get_grade(self):\n",
    "        return self.grade\n",
    "\n",
    "class Course:\n",
    "    def __init__(self,name,max_students):\n",
    "        self.name=name\n",
    "        self.max_students=max_students\n",
    "        self.students=[]    \n",
    "\n",
    "    def add_student(self,student):\n",
    "        if len(self.students)<self.max_students:\n",
    "            self.students.append(student)\n",
    "            return True\n",
    "        return False    \n",
    "    \n",
    "    def avg_grade(self):\n",
    "        value=0\n",
    "        for student in self.students:\n",
    "            value+=student.get_grade()\n",
    "\n",
    "        return value/self.max_students    \n",
    "    \n",
    "\n",
    "s1=student(\"tim\",19,95)\n",
    "s2=student(\"tom\",19,85)\n",
    "s3=student(\"tate\",19,65)\n",
    "\n",
    "course=Course(\"Maths\",2)\n",
    "course.add_student(s1)\n",
    "course.add_student(s2)\n",
    "\n",
    "print(course.add_student(s3))\n",
    "print(course.avg_grade())"
   ]
  },
  {
   "cell_type": "markdown",
   "metadata": {},
   "source": [
    "## Lets practise by making a library management system \n",
    "\n",
    "---\n",
    "### Book\n",
    "- **Attributes**:  \n",
    "  - `title` → Book title  \n",
    "  - `author` → Author's name  \n",
    "  - `isbn` → Unique book identifier  \n",
    "- **Method**:  \n",
    "  - `get_details()` → Returns book details  \n",
    "---\n",
    "### Member\n",
    "- **Attributes**:  \n",
    "  - `name` → Member's name  \n",
    "  - `member_id` → Unique member ID  \n",
    "- **Method**:  \n",
    "  - `borrow_book(book)` → Borrows a book  \n",
    "---\n",
    "### Library\n",
    "- **Attributes**:  \n",
    "  - `name` → Library name  \n",
    "  - `books` → List of books in the library  \n",
    "  - `members` → List of registered members  \n",
    "- **Methods**:  \n",
    "  - `add_book(book)` → Adds a book to the library  \n",
    "  - `register_member(member)` → Registers a new member  \n",
    "  - `lend_book(book, member)` → Lends a book if available  \n",
    "---\n",
    "## 🔹 Task  \n",
    "1. Implement the classes in Python.  \n",
    "2. Add books to the library.  \n",
    "3. Register members.  \n",
    "4. Lend books to members. 🚀  \n",
    "\n",
    "💡 **Try coding it first before looking up a solution!**  \n"
   ]
  },
  {
   "cell_type": "code",
   "execution_count": 2,
   "metadata": {},
   "outputs": [
    {
     "name": "stdout",
     "output_type": "stream",
     "text": [
      "Choose an option : \n",
      "1) Lend a book \n",
      "2) Add a book \n",
      "3) Add a member \n",
      "4) Exit \n",
      "No member named hah found \n",
      "Choose an option : \n",
      "1) Lend a book \n",
      "2) Add a book \n",
      "3) Add a member \n",
      "4) Exit \n",
      "Exit\n"
     ]
    }
   ],
   "source": [
    "class Book:\n",
    "    def __init__(self,title,author,isbn):\n",
    "        self.title=title\n",
    "        self.author=author\n",
    "        self.isbn=isbn\n",
    "        self.isavail=True\n",
    "\n",
    "    def get_bookdetails(self):\n",
    "        print(\"book title : \",self.title)\n",
    "        print(\"book author : \",self.author)\n",
    "\n",
    "class Member:\n",
    "    def __init__(self,name,mem_id):\n",
    "        self.name=name\n",
    "        self.mem_id=mem_id\n",
    "        self.books=[]\n",
    "\n",
    "    def borrow_book(self,book):\n",
    "        self.books.append(book)\n",
    "\n",
    "    def show_borrow_book(self):\n",
    "        for books in self.books:\n",
    "            print(books.title)\n",
    "        \n",
    "class Library:\n",
    "    def __init__(self,name,books=None,members=None):\n",
    "        self.name=name\n",
    "        self.books=books if books is not None else []\n",
    "        self.members=members if members is not None else []\n",
    "\n",
    "    def add_book(self,book):\n",
    "        return self.books.append(book)\n",
    "    \n",
    "    def register_member(self,member):\n",
    "        return self.members.append(member)\n",
    "    \n",
    "    def lend_books(self,member_name,book_name):\n",
    "        for member in self.members:\n",
    "            if member.name==member_name:\n",
    "                for book in self.books:\n",
    "                    if book_name==book.title :\n",
    "                        if book.isavail==True:\n",
    "                            book.isavail=False\n",
    "                            print(f\"The book {book.title} is lended to {member.name}\")\n",
    "                            member.borrow_book(book)\n",
    "                            return\n",
    "                        else:\n",
    "                            print(f\"The book {book.title} is not available right now\")\n",
    "                            return\n",
    "                        \n",
    "                print(f\"the book : {book_name} doesnt exist \")\n",
    "        print(f\"No member named {member_name} found \")\n",
    "\n",
    "def Menu():\n",
    "    print(\"Choose an option : \")\n",
    "    print(\"1) Lend a book \")\n",
    "    print(\"2) Add a book \")\n",
    "    print(\"3) Add a member \")\n",
    "    print(\"4) Exit \")\n",
    "\n",
    "def main():\n",
    "    flag=True \n",
    "    l1=Library(\"Main Library\")\n",
    "\n",
    "    while(flag):\n",
    "        Menu()\n",
    "        ans=int(input())\n",
    "        match ans:\n",
    "            case 1:\n",
    "                m_name=input(\"Enter your name \")\n",
    "                b_name=input(\"Enter the book to be borrowed \")\n",
    "                l1.lend_books(m_name,b_name)\n",
    "            case 2:\n",
    "                b_name=input(\"Enter the title of book\")\n",
    "                b_isbn=int(input(\"Enter the number of book\"))\n",
    "                b_author=input(\"Enter the author name\")\n",
    "                book=Book(b_name,b_author,b_isbn)\n",
    "                l1.add_book(book)\n",
    "            case 3:\n",
    "                m_name=input(\"Enter your name : \")\n",
    "                m_id=int(input(\"Enter your id \"))\n",
    "                member=Member(m_name,m_id)\n",
    "                l1.register_member(member)\n",
    "            case 4:\n",
    "                print(\"Exit\")\n",
    "                break\n",
    "            case _:\n",
    "                print(\"False choice \")\n",
    "\n",
    "if __name__== \"__main__\":\n",
    "    main()\n",
    "                \n"
   ]
  },
  {
   "cell_type": "markdown",
   "metadata": {},
   "source": [
    "## Inheritence \n",
    "### lets move to inheritence "
   ]
  },
  {
   "cell_type": "code",
   "execution_count": null,
   "metadata": {},
   "outputs": [
    {
     "name": "stdout",
     "output_type": "stream",
     "text": [
      "im  tom , 10 years old \n",
      "Dont know what to do\n",
      "im a dog called vini , 5 years old and black \n",
      "WUFF\n",
      "im  snow , 2 years old \n",
      "MEOW\n"
     ]
    }
   ],
   "source": [
    "class Pet:\n",
    "    def __init__(self,name,age):\n",
    "        self.name=name\n",
    "        self.age=age\n",
    "\n",
    "    def show(self):\n",
    "        print(f\"im  {self.name} , {self.age} years old \")\n",
    "\n",
    "    def speak(self):\n",
    "        print(\"Dont know what to do\")\n",
    "\n",
    "class Dog(Pet):\n",
    "    def __init__(self,name,age,color):\n",
    "        super().__init__(name,age)\n",
    "        self.color=color\n",
    "\n",
    "    def show(self):\n",
    "        print(f\"im a dog called {self.name} , {self.age} years old and {self.color} \")\n",
    "    \n",
    "    def speak(self):\n",
    "        print(\"WUFF\")\n",
    "\n",
    "class Cat(Pet):\n",
    "    def __init__(self,name,age,color):\n",
    "        super().__init__(name,age)\n",
    "        self.color=color\n",
    "\n",
    "    def speak(self):\n",
    "        print(\"MEOW\")\n",
    "\n",
    "p=Pet(\"tom\",10)\n",
    "p.show()\n",
    "p.speak()\n",
    "d=Dog(\"vini\",5,\"black\")\n",
    "d.show()\n",
    "d.speak()\n",
    "c=Cat(\"snow\",2,\"white\")\n",
    "c.show()\n",
    "c.speak()"
   ]
  },
  {
   "cell_type": "markdown",
   "metadata": {},
   "source": [
    "## Problem Statement: Animal Kingdom Simulation\n",
    "Create a base class Animal with the following properties and methods:\n",
    "\n",
    "### Attributes: name, species\n",
    "- Method make_sound(): Prints \"Some generic animal sound\"\n",
    "- Method show_info(): Prints \"I am a [species] named [name]\"\n",
    "\n",
    " Now, create two derived classes:\n",
    "\n",
    "#### Mammal (inherits from Animal)\n",
    "\n",
    "- Additional attribute: is_warm_blooded (always True)\n",
    "- Override make_sound(): Print \"Some mammal sound\"\n",
    "\n",
    "#### Bird (inherits from Animal)\n",
    "\n",
    "- Additional attribute: can_fly (boolean)\n",
    "- Override make_sound(): Print \"Chirp Chirp\" if can_fly is True, otherwise \"Coo Coo\"\n",
    "\n",
    "Finally, create another subclass:\n",
    "\n",
    "#### Dog (inherits from Mammal)\n",
    "- Additional attribute: breed\n",
    "- Override make_sound(): Print \"Woof Woof!\"\n",
    "### Your Task\n",
    "- Implement the Animal, Mammal, Bird, and Dog classes.\n",
    "- Create objects of each class and test all methods."
   ]
  },
  {
   "attachments": {
    "image.png": {
     "image/png": "[encoded data removed]"
    }
   },
   "cell_type": "markdown",
   "metadata": {},
   "source": [
    "### Expected Output\n",
    "![image.png](attachment:image.png) "
   ]
  },
  {
   "cell_type": "code",
   "execution_count": 10,
   "metadata": {},
   "outputs": [
    {
     "name": "stdout",
     "output_type": "stream",
     "text": [
      "Im a loin from mamal\n",
      "dont know what i sound like\n",
      "\n",
      "\n",
      "Im a loin from mamal\n",
      "some random mamal loin voice\n",
      "\n",
      "\n",
      "Im a eagle from bird\n",
      "Chirp Chirp\n",
      "\n",
      "\n",
      "im a German dog\n",
      "wuf wuf\n"
     ]
    }
   ],
   "source": [
    "class Animal:\n",
    "    def __init__(self,name,specie):\n",
    "        self.name=name\n",
    "        self.specie=specie\n",
    "\n",
    "    def sound(self):\n",
    "        print(\"dont know what i sound like\")\n",
    "\n",
    "    def info(self):\n",
    "        print(f\"Im a {self.name} from {self.specie}\")\n",
    "\n",
    "class Mammal(Animal):\n",
    "    def __init__(self,name,specie,is_warm_blooded=True):\n",
    "        super().__init__(name,specie)\n",
    "        self.is_warm_blooded=is_warm_blooded\n",
    "    \n",
    "    def sound(self):\n",
    "        print(f\"some random mamal {self.name} voice\")\n",
    "\n",
    "class Bird(Animal):\n",
    "    def __init__(self,name,specie,can_fly):\n",
    "        super().__init__(name,specie)\n",
    "        self.can_fly=can_fly\n",
    "\n",
    "    def sound(self):\n",
    "        if self.can_fly==True:\n",
    "            print(\"Chirp Chirp\")\n",
    "        else:\n",
    "            print(\"Co Co\")\n",
    "\n",
    "class Dog(Mammal):\n",
    "    def __init__(self,name,breed):\n",
    "        super().__init__(name,\"Dog\")\n",
    "        self.breed=breed\n",
    "\n",
    "    def sound(self):\n",
    "        print(\"wuf wuf\")\n",
    "\n",
    "    def info(self):\n",
    "        print(f\"im a {self.breed} dog\")\n",
    "\n",
    "a=Animal(\"loin\",\"mamal\")\n",
    "a.info()\n",
    "a.sound()\n",
    "print(\"\\n\")\n",
    "\n",
    "m=Mammal(\"loin\",\"mamal\")\n",
    "m.info()\n",
    "m.sound()\n",
    "print(\"\\n\")\n",
    "\n",
    "b=Bird(\"eagle\",\"bird\",True)\n",
    "b.info()\n",
    "b.sound()\n",
    "print(\"\\n\")\n",
    "\n",
    "d=Dog(\"tommy\",\"German\")\n",
    "d.info()\n",
    "d.sound()\n"
   ]
  },
  {
   "cell_type": "markdown",
   "metadata": {},
   "source": [
    "### Class attributes\n",
    "these are not specfic to objects but are same for evry objects bcoz they are not declared in init"
   ]
  },
  {
   "cell_type": "code",
   "execution_count": 14,
   "metadata": {},
   "outputs": [
    {
     "name": "stdout",
     "output_type": "stream",
     "text": [
      "1\n",
      "2\n",
      "2\n",
      "2\n"
     ]
    }
   ],
   "source": [
    "class Person:\n",
    "    num_of_people=0\n",
    "\n",
    "    def __init__(self,name):\n",
    "        self.name=name\n",
    "        Person.num_of_people +=1\n",
    "\n",
    "p1=Person(\"tim\")\n",
    "print(p1.num_of_people)\n",
    "p2=Person(\"bill\")\n",
    "print(p1.num_of_people)\n",
    "print(p2.num_of_people) # see here we can call it with any object its value is updated\n",
    "print(Person.num_of_people)"
   ]
  },
  {
   "cell_type": "markdown",
   "metadata": {},
   "source": [
    "### Now lets talk about class methods\n",
    "these are the methods specific for classes which are used to access class attributes\n"
   ]
  },
  {
   "cell_type": "code",
   "execution_count": null,
   "metadata": {},
   "outputs": [
    {
     "name": "stdout",
     "output_type": "stream",
     "text": [
      "2\n"
     ]
    }
   ],
   "source": [
    "class Person:\n",
    "    num_of_people=0\n",
    "\n",
    "    def __init__(self,name):\n",
    "        self.name=name\n",
    "        Person.add_people()\n",
    "\n",
    "    @classmethod\n",
    "    def number_of_people(cls):\n",
    "        return cls.num_of_people\n",
    "\n",
    "    @classmethod\n",
    "    def add_people(cls):\n",
    "        cls.num_of_people+=1\n",
    "\n",
    "p1=Person(\"tim\")\n",
    "p2=Person(\"bill\")\n",
    "print(Person.number_of_people()) #u can access it with objects but this is more valid"
   ]
  },
  {
   "cell_type": "markdown",
   "metadata": {},
   "source": [
    "### Lets talk about Static Methods\n",
    "So they dont have access to change anything they just use for their functionality , below is an example "
   ]
  },
  {
   "cell_type": "code",
   "execution_count": null,
   "metadata": {},
   "outputs": [
    {
     "name": "stdout",
     "output_type": "stream",
     "text": [
      "10\n",
      "15\n",
      "5\n"
     ]
    }
   ],
   "source": [
    "class Math:\n",
    "    # def __init__(self,name):\n",
    "    #     self.name=name\n",
    "\n",
    "    @staticmethod\n",
    "    def add5(x):\n",
    "        return (x+5)\n",
    "\n",
    "    def sub5(x):\n",
    "        return (x-5)\n",
    "\n",
    "\n",
    "#m=Math(\"math\")\n",
    "#print(m.add5(5)) so this just shows that we can access them through objects if necessary but no point , we can also make print functions through this \n",
    "print(Math.add5(10))\n",
    "print(Math.sub5(10))"
   ]
  },
  {
   "cell_type": "code",
   "execution_count": null,
   "metadata": {},
   "outputs": [],
   "source": []
  }
 ],
 "metadata": {
  "kernelspec": {
   "display_name": "Python 3",
   "language": "python",
   "name": "python3"
  },
  "language_info": {
   "codemirror_mode": {
    "name": "ipython",
    "version": 3
   },
   "file_extension": ".py",
   "mimetype": "text/x-python",
   "name": "python",
   "nbconvert_exporter": "python",
   "pygments_lexer": "ipython3",
   "version": "3.12.6"
  }
 },
 "nbformat": 4,
 "nbformat_minor": 2
}
